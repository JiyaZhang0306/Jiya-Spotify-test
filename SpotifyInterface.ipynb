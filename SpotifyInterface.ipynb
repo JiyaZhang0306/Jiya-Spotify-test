{
 "cells": [
  {
   "cell_type": "code",
   "execution_count": 5,
   "id": "ecd84f11-b4d3-40d6-956a-90d5b078cade",
   "metadata": {},
   "outputs": [],
   "source": [
    "import spotipy\n",
    "import json\n",
    "import webbrowser\n",
    "import urllib.request\n",
    "import spotipy.util as util"
   ]
  },
  {
   "cell_type": "code",
   "execution_count": 6,
   "id": "65f4189c-ed99-47e9-8d32-731c9e3b469e",
   "metadata": {},
   "outputs": [
    {
     "name": "stdout",
     "output_type": "stream",
     "text": [
      "52e510237ea24dc09aa142636242910\n"
     ]
    }
   ],
   "source": [
    "with open('weather_key.txt','r') as weather_file:\n",
    "    weather_key = weather_file.read()\n",
    "\n",
    "print(weather_key)"
   ]
  },
  {
   "cell_type": "code",
   "execution_count": 8,
   "id": "56bb2d37-1d4a-4dfd-b941-0f2afe5cec6d",
   "metadata": {},
   "outputs": [],
   "source": [
    "url = f\"http://api.weatherapi.com/v1/current.json?key={weather_key}&q=London&aqi=no\""
   ]
  },
  {
   "cell_type": "code",
   "execution_count": 9,
   "id": "7bd60147-a133-47ad-8f87-eb3a1ab62bbb",
   "metadata": {},
   "outputs": [],
   "source": [
    "request = urllib.request.Request(url)\n",
    "response = urllib.request.urlopen(request)"
   ]
  },
  {
   "cell_type": "code",
   "execution_count": 10,
   "id": "54599061-07a4-470a-90a5-1a842124460c",
   "metadata": {},
   "outputs": [
    {
     "name": "stdout",
     "output_type": "stream",
     "text": [
      "<http.client.HTTPResponse object at 0x000001FC0119B0A0>\n"
     ]
    }
   ],
   "source": [
    "print(response)"
   ]
  },
  {
   "cell_type": "code",
   "execution_count": 12,
   "id": "0870116f-3e90-420b-9177-ecc585115715",
   "metadata": {},
   "outputs": [],
   "source": [
    "weather_json = json.loads(response.read())"
   ]
  },
  {
   "cell_type": "code",
   "execution_count": 13,
   "id": "8468009e-6ca6-4a28-8da3-0a43c86f2b4f",
   "metadata": {},
   "outputs": [
    {
     "name": "stdout",
     "output_type": "stream",
     "text": [
      "{'location': {'name': 'London', 'region': 'City of London, Greater London', 'country': 'United Kingdom', 'lat': 51.5171, 'lon': -0.1062, 'tz_id': 'Europe/London', 'localtime_epoch': 1730215421, 'localtime': '2024-10-29 15:23'}, 'current': {'last_updated_epoch': 1730214900, 'last_updated': '2024-10-29 15:15', 'temp_c': 15.1, 'temp_f': 59.2, 'is_day': 1, 'condition': {'text': 'Overcast', 'icon': '//cdn.weatherapi.com/weather/64x64/day/122.png', 'code': 1009}, 'wind_mph': 3.1, 'wind_kph': 5.0, 'wind_degree': 259, 'wind_dir': 'W', 'pressure_mb': 1024.0, 'pressure_in': 30.24, 'precip_mm': 0.0, 'precip_in': 0.0, 'humidity': 82, 'cloud': 50, 'feelslike_c': 15.1, 'feelslike_f': 59.2, 'windchill_c': 15.1, 'windchill_f': 59.1, 'heatindex_c': 14.7, 'heatindex_f': 58.4, 'dewpoint_c': 10.0, 'dewpoint_f': 50.0, 'vis_km': 10.0, 'vis_miles': 6.0, 'uv': 0.5, 'gust_mph': 4.9, 'gust_kph': 8.0}}\n"
     ]
    }
   ],
   "source": [
    "print(weather_json)"
   ]
  },
  {
   "cell_type": "code",
   "execution_count": null,
   "id": "a1dc0ce7-412d-4743-bfa4-6768c8eeff85",
   "metadata": {},
   "outputs": [],
   "source": []
  }
 ],
 "metadata": {
  "kernelspec": {
   "display_name": "Python 3 (ipykernel)",
   "language": "python",
   "name": "python3"
  },
  "language_info": {
   "codemirror_mode": {
    "name": "ipython",
    "version": 3
   },
   "file_extension": ".py",
   "mimetype": "text/x-python",
   "name": "python",
   "nbconvert_exporter": "python",
   "pygments_lexer": "ipython3",
   "version": "3.11.9"
  }
 },
 "nbformat": 4,
 "nbformat_minor": 5
}
